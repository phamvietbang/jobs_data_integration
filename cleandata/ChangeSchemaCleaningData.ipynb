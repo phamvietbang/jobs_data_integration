{
  "nbformat": 4,
  "nbformat_minor": 0,
  "metadata": {
    "colab": {
      "name": "ChangeSchemaCleaningData.ipynb",
      "provenance": [],
      "collapsed_sections": []
    },
    "kernelspec": {
      "display_name": "Python 3",
      "name": "python3"
    },
    "language_info": {
      "name": "python"
    }
  },
  "cells": [
    {
      "cell_type": "code",
      "metadata": {
        "colab": {
          "base_uri": "https://localhost:8080/"
        },
        "id": "CoQc7VoH7zUd",
        "outputId": "8020e355-7641-4ea0-f033-407357db8688"
      },
      "source": [
        "from google.colab import drive\n",
        "drive.mount('/content/drive')"
      ],
      "execution_count": null,
      "outputs": [
        {
          "output_type": "stream",
          "text": [
            "Drive already mounted at /content/drive; to attempt to forcibly remount, call drive.mount(\"/content/drive\", force_remount=True).\n"
          ],
          "name": "stdout"
        }
      ]
    },
    {
      "cell_type": "code",
      "metadata": {
        "id": "yH-FK-jw8F4R"
      },
      "source": [
        "import pandas as pd"
      ],
      "execution_count": null,
      "outputs": []
    },
    {
      "cell_type": "code",
      "metadata": {
        "id": "bhPwS-uc8LQ0"
      },
      "source": [
        "job123 = pd.read_json('/content/drive/MyDrive/TichHopDuLieu/data/123job_0105.json')\n",
        "viectotnhat = pd.read_json('/content/drive/MyDrive/TichHopDuLieu/data/viectotnhat_0105.json')\n",
        "jobsgo = pd.read_json('/content/drive/MyDrive/TichHopDuLieu/data/jobsgo.json')"
      ],
      "execution_count": null,
      "outputs": []
    },
    {
      "cell_type": "code",
      "metadata": {
        "id": "f_gBRXtA8Rip"
      },
      "source": [
        "job123.columns = ['title', 'description', 'requirements', 'benefits', 'salary',\n",
        "                  'company_name', 'position', 'number_available', 'experience', \n",
        "                  'working_location', 'news_link', 'deadline']\n",
        "job123['source'] = \"123job.vn\"\n",
        "job123['crawled_time'] = \"\"\n",
        "job123['degree'] = \"\"\n",
        "job123['gender'] = \"\"\n",
        "job123['updated_date'] = \"\"\n",
        "job123['company_link'] = \"\"\n",
        "job123['company_address'] = \"\""
      ],
      "execution_count": null,
      "outputs": []
    },
    {
      "cell_type": "code",
      "metadata": {
        "colab": {
          "base_uri": "https://localhost:8080/"
        },
        "id": "QOtA4MF68WFB",
        "outputId": "8b65784e-e6ab-4d92-a548-2f8bac5a16a6"
      },
      "source": [
        "viectotnhat = viectotnhat.drop(['info'], axis=1)\n",
        "viectotnhat.info()"
      ],
      "execution_count": null,
      "outputs": [
        {
          "output_type": "stream",
          "text": [
            "<class 'pandas.core.frame.DataFrame'>\n",
            "RangeIndex: 856 entries, 0 to 855\n",
            "Data columns (total 14 columns):\n",
            " #   Column         Non-Null Count  Dtype \n",
            "---  ------         --------------  ----- \n",
            " 0   title          856 non-null    object\n",
            " 1   job_desc       856 non-null    object\n",
            " 2   job_req        856 non-null    object\n",
            " 3   job_ben        856 non-null    object\n",
            " 4   salary         856 non-null    object\n",
            " 5   com_name       856 non-null    object\n",
            " 6   com_add        856 non-null    object\n",
            " 7   job_pos        856 non-null    object\n",
            " 8   job_nums_avai  856 non-null    int64 \n",
            " 9   job_exp        856 non-null    object\n",
            " 10  location       856 non-null    object\n",
            " 11  certificate    856 non-null    object\n",
            " 12  url            856 non-null    object\n",
            " 13  deadline       856 non-null    object\n",
            "dtypes: int64(1), object(13)\n",
            "memory usage: 93.8+ KB\n"
          ],
          "name": "stdout"
        }
      ]
    },
    {
      "cell_type": "code",
      "metadata": {
        "id": "Ttw1xjeO8bg1"
      },
      "source": [
        "viectotnhat.columns = ['title', 'description', 'requirements', 'benefits',\n",
        "                       'salary', 'company_name', 'company_address', 'position',\n",
        "                       'number_available', 'experience', 'working_location', \n",
        "                       'degree', 'news_link', 'deadline']\n",
        "viectotnhat['source'] = \"viectotnhat.com\"\n",
        "viectotnhat['crawled_time'] = \"\"\n",
        "viectotnhat['gender'] = \"\"\n",
        "viectotnhat['updated_date'] = \"\"\n",
        "viectotnhat['company_link'] = \"\""
      ],
      "execution_count": null,
      "outputs": []
    },
    {
      "cell_type": "code",
      "metadata": {
        "id": "H5XIO6qi8j1L"
      },
      "source": [
        "jobsgo.columns = ['title', 'description', 'requirements', 'benefits', \n",
        "                  'salary', 'company_name', 'company_address', \n",
        "                  'position', 'experience', 'degree', 'company_link',\n",
        "                  'news_link', 'deadline', 'types']\n",
        "jobsgo['source'] = \"jobsgo.vn\"\n",
        "jobsgo['working_location'] = \"\"\n",
        "jobsgo['gender'] = \"\"\n",
        "jobsgo['updated_date'] = \"\"\n",
        "jobsgo['crawled_time'] = \"\"\n",
        "jobsgo['number_available'] = \"\""
      ],
      "execution_count": null,
      "outputs": []
    },
    {
      "cell_type": "code",
      "metadata": {
        "id": "rGwxQglnTbmb"
      },
      "source": [
        "job1 = pd.concat([job123, viectotnhat], ignore_index=True)"
      ],
      "execution_count": null,
      "outputs": []
    },
    {
      "cell_type": "code",
      "metadata": {
        "id": "7THeD_3sTyxn"
      },
      "source": [
        "alljob1 = pd.concat([job1, jobsgo], ignore_index=True)"
      ],
      "execution_count": null,
      "outputs": []
    },
    {
      "cell_type": "code",
      "metadata": {
        "id": "JzNTBu5oWKPt"
      },
      "source": [
        "job_news = pd.read_json('/content/drive/MyDrive/TichHopDuLieu/data/job_news.json')"
      ],
      "execution_count": null,
      "outputs": []
    },
    {
      "cell_type": "code",
      "metadata": {
        "id": "ded1S4HVoE55"
      },
      "source": [
        "job_news = job_news.drop(['_id'], axis=1)"
      ],
      "execution_count": null,
      "outputs": []
    },
    {
      "cell_type": "code",
      "metadata": {
        "colab": {
          "base_uri": "https://localhost:8080/"
        },
        "id": "tS7jJtFyoWIO",
        "outputId": "f42d9413-16ac-486a-e66a-b74ad75d1e8d"
      },
      "source": [
        "alljob2 = pd.concat([alljob1, job_news], ignore_index=True)\n",
        "alljob2.info()"
      ],
      "execution_count": null,
      "outputs": [
        {
          "output_type": "stream",
          "text": [
            "<class 'pandas.core.frame.DataFrame'>\n",
            "RangeIndex: 33703 entries, 0 to 33702\n",
            "Data columns (total 20 columns):\n",
            " #   Column            Non-Null Count  Dtype \n",
            "---  ------            --------------  ----- \n",
            " 0   title             33703 non-null  object\n",
            " 1   description       33649 non-null  object\n",
            " 2   requirements      33577 non-null  object\n",
            " 3   benefits          33633 non-null  object\n",
            " 4   salary            33703 non-null  object\n",
            " 5   company_name      33703 non-null  object\n",
            " 6   position          32703 non-null  object\n",
            " 7   number_available  33703 non-null  object\n",
            " 8   experience        33703 non-null  object\n",
            " 9   working_location  33703 non-null  object\n",
            " 10  news_link         33703 non-null  object\n",
            " 11  deadline          33703 non-null  object\n",
            " 12  source            33703 non-null  object\n",
            " 13  crawled_time      33703 non-null  object\n",
            " 14  degree            33703 non-null  object\n",
            " 15  gender            33703 non-null  object\n",
            " 16  updated_date      33703 non-null  object\n",
            " 17  company_link      33703 non-null  object\n",
            " 18  company_address   33703 non-null  object\n",
            " 19  types             32667 non-null  object\n",
            "dtypes: object(20)\n",
            "memory usage: 5.1+ MB\n"
          ],
          "name": "stdout"
        }
      ]
    },
    {
      "cell_type": "code",
      "metadata": {
        "id": "qKH-o1edpFCN"
      },
      "source": [
        "mywork = pd.read_json(\"/content/drive/MyDrive/TichHopDuLieu/data/new_myworks.json\")\n",
        "topcv = pd.read_json(\"/content/drive/MyDrive/TichHopDuLieu/data/new_topcv.json\")"
      ],
      "execution_count": null,
      "outputs": []
    },
    {
      "cell_type": "code",
      "metadata": {
        "id": "qkD5CR3EpTwt"
      },
      "source": [
        "mywork.columns = ['title', 'news_link', 'company_name', 'salary', 'working_location',\n",
        "                  'number_available', 'experience', 'position', 'gender',\n",
        "                  'deadline', 'description', 'requirements', 'benefits']\n",
        "mywork['source'] = 'mywork.com.vn'"
      ],
      "execution_count": null,
      "outputs": []
    },
    {
      "cell_type": "code",
      "metadata": {
        "colab": {
          "base_uri": "https://localhost:8080/"
        },
        "id": "oLcIlv2Apkh-",
        "outputId": "27578bd5-8c2d-4212-93ac-e4d94fa0ccc4"
      },
      "source": [
        "alljob3 = pd.concat([alljob2, mywork], ignore_index=True)\n",
        "alljob3.info()"
      ],
      "execution_count": null,
      "outputs": [
        {
          "output_type": "stream",
          "text": [
            "<class 'pandas.core.frame.DataFrame'>\n",
            "RangeIndex: 52703 entries, 0 to 52702\n",
            "Data columns (total 20 columns):\n",
            " #   Column            Non-Null Count  Dtype \n",
            "---  ------            --------------  ----- \n",
            " 0   title             52703 non-null  object\n",
            " 1   description       52649 non-null  object\n",
            " 2   requirements      52577 non-null  object\n",
            " 3   benefits          52633 non-null  object\n",
            " 4   salary            52703 non-null  object\n",
            " 5   company_name      52703 non-null  object\n",
            " 6   position          51703 non-null  object\n",
            " 7   number_available  52703 non-null  object\n",
            " 8   experience        52703 non-null  object\n",
            " 9   working_location  52703 non-null  object\n",
            " 10  news_link         52703 non-null  object\n",
            " 11  deadline          52703 non-null  object\n",
            " 12  source            52703 non-null  object\n",
            " 13  crawled_time      33703 non-null  object\n",
            " 14  degree            33703 non-null  object\n",
            " 15  gender            52703 non-null  object\n",
            " 16  updated_date      33703 non-null  object\n",
            " 17  company_link      33703 non-null  object\n",
            " 18  company_address   33703 non-null  object\n",
            " 19  types             32667 non-null  object\n",
            "dtypes: object(20)\n",
            "memory usage: 8.0+ MB\n"
          ],
          "name": "stdout"
        }
      ]
    },
    {
      "cell_type": "code",
      "metadata": {
        "id": "Ke-5ROAlMYbZ"
      },
      "source": [
        "topcv.columns = ['title', 'news_link', 'company_name', 'salary', 'working_location', 'number_available',\n",
        "                 'experience', 'position', 'gender', 'deadline', 'description',\n",
        "                 'requirements', 'benefits']\n",
        "topcv['source'] = 'topcv.vn'"
      ],
      "execution_count": null,
      "outputs": []
    },
    {
      "cell_type": "code",
      "metadata": {
        "id": "uCAVoGpqqAQV",
        "colab": {
          "base_uri": "https://localhost:8080/"
        },
        "outputId": "c6454756-e86d-449f-ad18-e93cce2d52ad"
      },
      "source": [
        "alljob4 = pd.concat([alljob3, topcv], ignore_index=True)\n",
        "alljob4.info()"
      ],
      "execution_count": null,
      "outputs": [
        {
          "output_type": "stream",
          "text": [
            "<class 'pandas.core.frame.DataFrame'>\n",
            "RangeIndex: 65703 entries, 0 to 65702\n",
            "Data columns (total 20 columns):\n",
            " #   Column            Non-Null Count  Dtype \n",
            "---  ------            --------------  ----- \n",
            " 0   title             65703 non-null  object\n",
            " 1   description       65649 non-null  object\n",
            " 2   requirements      65577 non-null  object\n",
            " 3   benefits          65633 non-null  object\n",
            " 4   salary            65703 non-null  object\n",
            " 5   company_name      65703 non-null  object\n",
            " 6   position          64703 non-null  object\n",
            " 7   number_available  65703 non-null  object\n",
            " 8   experience        65703 non-null  object\n",
            " 9   working_location  65703 non-null  object\n",
            " 10  news_link         65703 non-null  object\n",
            " 11  deadline          65703 non-null  object\n",
            " 12  source            65703 non-null  object\n",
            " 13  crawled_time      33703 non-null  object\n",
            " 14  degree            33703 non-null  object\n",
            " 15  gender            65703 non-null  object\n",
            " 16  updated_date      33703 non-null  object\n",
            " 17  company_link      33703 non-null  object\n",
            " 18  company_address   33703 non-null  object\n",
            " 19  types             32667 non-null  object\n",
            "dtypes: object(20)\n",
            "memory usage: 10.0+ MB\n"
          ],
          "name": "stdout"
        }
      ]
    },
    {
      "cell_type": "code",
      "metadata": {
        "id": "9am8-kLAqfgA"
      },
      "source": [
        "data = pd.read_json(\"/content/drive/MyDrive/TichHopDuLieu/data/1001vieclam.json\")\n",
        "data_job = dict()\n",
        "# thiếu Hình thức làm việc, ID công việc, Mức thưởng\n",
        "data_job[\"source\"] = \"1001vieclam.com\"\n",
        "data_job[\"crawled_time\"] = \"\"\n",
        "data_job[\"news_link\"] = data[\"url\"]\n",
        "data_job[\"title\"] = data[\"title\"]\n",
        "data_job[\"salary\"] = data[\"Lương\"]\n",
        "# data_job[\"bonus\"] = data[\"Mức thưởng\"]\n",
        "# data_job[\"working_form\"] = data[\"Hình thức là việc\"]\n",
        "# data_job[\"ID_job\"] = data[\"ID công việc\"]\n",
        "data_job[\"number_available\"] = \"\"\n",
        "data_job[\"description\"] = data[\"Mô tả công việc\"]\n",
        "data_job[\"benefits\"] = data[\"Quyền lợi\"]\n",
        "data_job[\"working_location\"] = data[\"Nơi làm việc\"]\n",
        "data_job[\"types\"] = data[\"Ngành\"]\n",
        "data_job[\"experience\"] = \"\"\n",
        "data_job[\"degree\"] = \"\"\n",
        "data_job[\"gender\"] = \"\"\n",
        "data_job[\"updated_date\"] = \"\"\n",
        "data_job[\"deadline\"] = data[\"Ngày hết hạn\"]\n",
        "data_job[\"requirements\"] = data[\"Yêu cầu công việc\"]\n",
        "data_job[\"company_name\"] = data[\"factory\"]\n",
        "data_job[\"company_link\"] = \"\"\n",
        "data_job[\"company_address\"] = \"\"\n",
        "datajob3 = pd.DataFrame(data_job)"
      ],
      "execution_count": null,
      "outputs": []
    },
    {
      "cell_type": "code",
      "metadata": {
        "id": "q7lEdcbkquwS"
      },
      "source": [
        "data = pd.read_json(\"/content/drive/MyDrive/TichHopDuLieu/data/careerbuilder.json\")\n",
        "data_job = dict()\n",
        "# thiếu Hình thức, Cấp bậc, Thông tin khác, jobtags/skill\n",
        "data_job[\"source\"] = \"careerbuilder.vn\"\n",
        "data_job[\"crawled_time\"] = \"\"\n",
        "data_job[\"news_link\"] = data[\"url\"]\n",
        "data_job[\"title\"] = data[\"title\"]\n",
        "data_job[\"salary\"] = data[\"Lương\"]\n",
        "# data_job[\"working_form\"] = data[\"Hình thức\"]\n",
        "# data_job[\"position\"] = data[\"Cấp bậc\"]\n",
        "data_job[\"number_available\"] = \"\"\n",
        "data_job[\"description\"] = data[\"Mô tả công việc\"]\n",
        "data_job[\"benefits\"] = data[\"Phúc lợi\"]\n",
        "data_job[\"working_location\"] = data[\"city\"]\n",
        "data_job[\"types\"] = data[\"Ngành nghề\"]\n",
        "data_job[\"experience\"] = data[\"Kinh nghiệm\"]\n",
        "data_job[\"degree\"] = \"\"\n",
        "data_job[\"gender\"] = \"\"\n",
        "data_job[\"updated_date\"] = \"\"\n",
        "data_job[\"deadline\"] = data[\"Hết hạn nộp\"]\n",
        "data_job[\"requirements\"] = data[\"Yêu cầu công việc\"]\n",
        "data_job[\"company_name\"] = data[\"factory\"]\n",
        "data_job[\"company_link\"] = \"\"\n",
        "data_job[\"company_address\"] = \"\"\n",
        "#data_job[\"other_information\"] = data[\"thông tin khác\"]\n",
        "# data_job[\"jobtags\"] = data[\"jobtags/skill\"]\n",
        "datajob4 = pd.DataFrame(data_job)"
      ],
      "execution_count": null,
      "outputs": []
    },
    {
      "cell_type": "code",
      "metadata": {
        "id": "RTTzIf7ZrARC"
      },
      "source": [
        "data = pd.read_json(\"/content/drive/MyDrive/TichHopDuLieu/data/vietnamworks.json\")\n",
        "data_job = dict()\n",
        "# thiếu Kỹ Năng, address (thành phố tuyển dụng)\n",
        "data_job[\"source\"] = \"vietnamworks.com\"\n",
        "data_job[\"crawled_time\"] = \"\"\n",
        "data_job[\"news_link\"] = data[\"url\"]\n",
        "data_job[\"title\"] = data[\"title\"]\n",
        "data_job[\"salary\"] = data[\"salary\"]\n",
        "data_job[\"number_available\"] = \"\"\n",
        "data_job[\"description\"] = data[\"Mô Tả Công Việc\"]\n",
        "data_job[\"benefits\"] = data[\"Phúc lợi\"]\n",
        "data_job[\"working_location\"] = data[\"Địa điểm làm việc\"]\n",
        "# data_job[\"city\"] = data[\"address\"]\n",
        "# data_job[\"skill\"] = data[\"Kỹ năng\"]\n",
        "data_job[\"types\"] = data[\"Ngành Nghề\"]\n",
        "data_job[\"experience\"] = \"\"\n",
        "data_job[\"degree\"] = \"\"\n",
        "data_job[\"gender\"] = \"\"\n",
        "data_job[\"updated_date\"] = data[\"Ngày Đăng Tuyển\"]\n",
        "data_job[\"deadline\"] = data[\"Hạn còn\"]\n",
        "data_job[\"requirements\"] = data[\"Yêu Cầu Công Việc\"]\n",
        "data_job[\"company_name\"] = data[\"factory\"]\n",
        "data_job[\"company_link\"] = \"\"\n",
        "data_job[\"company_address\"] = \"\"\n",
        "datajob5  = pd.DataFrame(data_job)"
      ],
      "execution_count": null,
      "outputs": []
    },
    {
      "cell_type": "code",
      "metadata": {
        "id": "oMqeARtQrMg0"
      },
      "source": [
        "alljob41 = pd.concat([alljob4, datajob3], ignore_index=True)\n",
        "datajob6 = pd.concat([datajob4, datajob5], ignore_index=True)"
      ],
      "execution_count": null,
      "outputs": []
    },
    {
      "cell_type": "code",
      "metadata": {
        "colab": {
          "base_uri": "https://localhost:8080/"
        },
        "id": "lXs1JHWurkAW",
        "outputId": "59e20d56-9139-4d1e-f324-8b11f7ac7b69"
      },
      "source": [
        "alljob_final = pd.concat([alljob41, datajob6], ignore_index=True)\n",
        "alljob_final.info()"
      ],
      "execution_count": null,
      "outputs": [
        {
          "output_type": "stream",
          "text": [
            "<class 'pandas.core.frame.DataFrame'>\n",
            "RangeIndex: 93153 entries, 0 to 93152\n",
            "Data columns (total 20 columns):\n",
            " #   Column            Non-Null Count  Dtype \n",
            "---  ------            --------------  ----- \n",
            " 0   title             91968 non-null  object\n",
            " 1   description       93099 non-null  object\n",
            " 2   requirements      93027 non-null  object\n",
            " 3   benefits          93083 non-null  object\n",
            " 4   salary            93153 non-null  object\n",
            " 5   company_name      91119 non-null  object\n",
            " 6   position          64703 non-null  object\n",
            " 7   number_available  93153 non-null  object\n",
            " 8   experience        93153 non-null  object\n",
            " 9   working_location  92030 non-null  object\n",
            " 10  news_link         93153 non-null  object\n",
            " 11  deadline          91593 non-null  object\n",
            " 12  source            93153 non-null  object\n",
            " 13  crawled_time      61153 non-null  object\n",
            " 14  degree            61153 non-null  object\n",
            " 15  gender            93153 non-null  object\n",
            " 16  updated_date      61153 non-null  object\n",
            " 17  company_link      61153 non-null  object\n",
            " 18  company_address   61153 non-null  object\n",
            " 19  types             60117 non-null  object\n",
            "dtypes: object(20)\n",
            "memory usage: 14.2+ MB\n"
          ],
          "name": "stdout"
        }
      ]
    },
    {
      "cell_type": "code",
      "metadata": {
        "colab": {
          "base_uri": "https://localhost:8080/"
        },
        "id": "o5-ruK74sEqy",
        "outputId": "0fee286e-2828-4a3f-a134-b16c228642d0"
      },
      "source": [
        "alljob_final1 = alljob_final.dropna(subset=['title', 'company_name', 'salary'])\n",
        "alljob_final1.info()"
      ],
      "execution_count": null,
      "outputs": [
        {
          "output_type": "stream",
          "text": [
            "<class 'pandas.core.frame.DataFrame'>\n",
            "Int64Index: 91118 entries, 0 to 93152\n",
            "Data columns (total 20 columns):\n",
            " #   Column            Non-Null Count  Dtype \n",
            "---  ------            --------------  ----- \n",
            " 0   title             91118 non-null  object\n",
            " 1   description       91064 non-null  object\n",
            " 2   requirements      90992 non-null  object\n",
            " 3   benefits          91048 non-null  object\n",
            " 4   salary            91118 non-null  object\n",
            " 5   company_name      91118 non-null  object\n",
            " 6   position          64703 non-null  object\n",
            " 7   number_available  91118 non-null  object\n",
            " 8   experience        91118 non-null  object\n",
            " 9   working_location  90874 non-null  object\n",
            " 10  news_link         91118 non-null  object\n",
            " 11  deadline          89558 non-null  object\n",
            " 12  source            91118 non-null  object\n",
            " 13  crawled_time      59118 non-null  object\n",
            " 14  degree            59118 non-null  object\n",
            " 15  gender            91118 non-null  object\n",
            " 16  updated_date      59118 non-null  object\n",
            " 17  company_link      59118 non-null  object\n",
            " 18  company_address   59118 non-null  object\n",
            " 19  types             58082 non-null  object\n",
            "dtypes: object(20)\n",
            "memory usage: 14.6+ MB\n"
          ],
          "name": "stdout"
        }
      ]
    },
    {
      "cell_type": "code",
      "metadata": {
        "id": "G7gHKb3WJK9k"
      },
      "source": [
        "alljob_final2 = alljob_final1.drop(['crawled_time', 'updated_date'], axis=1)\n",
        "# alljob_final2 = alljob_final2.drop(['update_date'], axis=1)"
      ],
      "execution_count": null,
      "outputs": []
    },
    {
      "cell_type": "code",
      "metadata": {
        "id": "fEz0LK4LPOHy"
      },
      "source": [
        "alljob_final2['title'] = alljob_final2['title'].str.upper()\n",
        "alljob_final2['company_name'] = alljob_final2['company_name'].str.upper()\n",
        "alljob_final2['degree'] = alljob_final2['degree'].str.capitalize()\n",
        "alljob_final2['degree'].replace({\"Trung cấp\": \"Trung cấp - Nghề\", \"Chứng chỉ\" : \"Chứng chỉ chuyên ngành\",\n",
        "                                 \"Trung học\" : \"Trung học phổ thông\", \"Thpt\" : \"Trung học phổ thông\",\n",
        "                                 \"Thạc sỹ\" : \"Thạc sĩ\", \"Tiến sỹ\" : \"Tiến sĩ\", \"Cao học\" : \"Thạc sĩ\",\n",
        "                                 \"\" : \"Không yêu cầu\", \"Thạc sĩ kỹ thuật ứng dụng\" : \"Thạc sĩ\",\n",
        "                                 \"  \": \"Không yêu cầu\"}, inplace=True)\n",
        "alljob_final2['gender'].replace({\"Chưa cập nhật\" : \"Không yêu cầu\", \"\" : \"Không yêu cầu\",\n",
        "                                 \"0\" : \"Không yêu cầu\"}, inplace=True)"
      ],
      "execution_count": null,
      "outputs": []
    },
    {
      "cell_type": "code",
      "metadata": {
        "id": "7GqzD8nrU4lp"
      },
      "source": [
        "x = 'Không xác định'\n",
        "alljob_final2['types'] = alljob_final2['types'].fillna(x)"
      ],
      "execution_count": null,
      "outputs": []
    },
    {
      "cell_type": "code",
      "metadata": {
        "id": "W7dMBm7nBguL"
      },
      "source": [
        "list_types = []\n",
        "for i in alljob_final2.index:\n",
        "  if len(alljob_final2.loc[int(i)]['types']) != 0:\n",
        "    if type(alljob_final2.loc[int(i)]['types']) != type(list()):\n",
        "      x = []\n",
        "      x.append(alljob_final2.loc[int(i)]['types'])\n",
        "      alljob_final2.loc[int(i)]['types'] = x\n",
        "    for j in alljob_final2.loc[int(i)]['types']:\n",
        "      if j not in list_types:\n",
        "        list_types.append(j)"
      ],
      "execution_count": null,
      "outputs": []
    },
    {
      "cell_type": "code",
      "metadata": {
        "id": "ikcXg3HPbcoM"
      },
      "source": [
        "textfile = open(\"/content/drive/MyDrive/TichHopDuLieu/data/list_types.txt\", \"w\")\n",
        "for element in list_types:\n",
        "    textfile.write(element + \"\\n\")\n",
        "textfile.close()"
      ],
      "execution_count": null,
      "outputs": []
    },
    {
      "cell_type": "code",
      "metadata": {
        "id": "qrTJdxyje4ND"
      },
      "source": [
        "alljob_final2.to_json('/content/drive/MyDrive/TichHopDuLieu/data/alljob1.json', orient='records')"
      ],
      "execution_count": null,
      "outputs": []
    }
  ]
}